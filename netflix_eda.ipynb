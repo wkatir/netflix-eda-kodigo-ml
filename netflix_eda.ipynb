{
 "cells": [
  {
   "cell_type": "markdown",
   "metadata": {},
   "source": [
    "# Reporte de Análisis Exploratorio de Datos (EDA)\n",
    "## Dataset: Netflix Movies and TV Shows\n",
    "\n",
    "**Autor:** Wilmer Henrry Salazar Martinez\n",
    "**Fecha:** 20 de julio de 2025\n",
    "**Curso:** AI Machine Learning - Kodigo"
   ]
  },
  {
   "cell_type": "markdown",
   "metadata": {},
   "source": [
    "## 1. Introducción\n",
    "\n",
    "### ¿Qué es?\n",
    "El análisis exploratorio de datos (EDA) es el primer paso en cualquier análisis de datos, donde se busca entender el dataset, identificar patrones, detectar valores anómalos y plantear hipótesis.\n",
    "\n",
    "### Objetivo del análisis:\n",
    "El propósito de este análisis es explorar y comprender el catálogo de contenido de Netflix, identificando patrones en la distribución de películas y series de TV, analizando tendencias temporales, y descubriendo insights sobre la producción de contenido por país, género y año. Este dataset contiene información sobre más de 8,000 títulos disponibles en Netflix hasta 2021."
   ]
  },
  {
   "cell_type": "markdown",
   "metadata": {},
   "source": [
    "### Justificación de la elección del dataset\n",
    "\n",
    "He seleccionado el dataset de Netflix Movies and TV Shows por las siguientes razones:\n",
    "\n",
    "1. **Relevancia actual**: Netflix es una de las plataformas de streaming más importantes del mundo\n",
    "2. **Tamaño adecuado**: Contiene 8,807 registros, superando el mínimo requerido de 1,000 filas\n",
    "3. **Variables diversas**: Incluye 12 columnas con información variada (categóricas, numéricas, temporales)\n",
    "4. **Disponibilidad**: Dataset público disponible en Kaggle en formato CSV\n",
    "5. **Potencial analítico**: Permite realizar análisis temporales, geográficos y de contenido"
   ]
  },
  {
   "cell_type": "code",
   "execution_count": null,
   "metadata": {},
   "outputs": [],
   "source": [
    "# Instalación de librerías necesarias (ejecutar solo si es necesario)\n",
    "# !pip install pandas numpy matplotlib seaborn ydata-profiling"
   ]
  },
  {
   "cell_type": "code",
   "execution_count": null,
   "metadata": {},
   "outputs": [],
   "source": [
    "# Cargar el dataset\n",
    "import pandas as pd\n",
    "import numpy as np\n",
    "import matplotlib.pyplot as plt\n",
    "import seaborn as sns\n",
    "from ydata_profiling import ProfileReport\n",
    "import warnings\n",
    "warnings.filterwarnings('ignore')\n",
    "\n",
    "# Configuración de visualización\n",
    "plt.style.use('seaborn-v0_8-darkgrid')\n",
    "sns.set_palette('husl')"
   ]
  },
  {
   "cell_type": "code",
   "execution_count": null,
   "metadata": {},
   "outputs": [],
   "source": [
    "# Cargar el dataset\n",
    "# Para Kaggle usar: df = pd.read_csv('/kaggle/input/netflix-shows/netflix_titles.csv')\n",
    "df = pd.read_csv('netflix_titles.csv')\n",
    "print('Dataset cargado exitosamente')"
   ]
  },
  {
   "cell_type": "markdown",
   "metadata": {},
   "source": [
    "## 2. Descripción del Dataset\n",
    "\n",
    "### ¿Qué es?\n",
    "Incluye un resumen general del dataset, como la cantidad de filas, columnas, tipos de datos y una vista previa de las primeras filas."
   ]
  },
  {
   "cell_type": "code",
   "execution_count": null,
   "metadata": {},
   "outputs": [],
   "source": [
    "# Tamaño del dataset\n",
    "print(\"Filas y columnas:\", df.shape)\n",
    "print(f\"\\nEl dataset contiene {df.shape[0]:,} registros y {df.shape[1]} variables\")"
   ]
  },
  {
   "cell_type": "code",
   "execution_count": null,
   "metadata": {},
   "outputs": [],
   "source": [
    "# Tipos de datos\n",
    "print(\"Tipos de datos:\\n\")\n",
    "print(df.dtypes)"
   ]
  },
  {
   "cell_type": "code",
   "execution_count": null,
   "metadata": {},
   "outputs": [],
   "source": [
    "# Primeras filas\n",
    "print(\"Primeras 5 filas del dataset:\\n\")\n",
    "df.head()"
   ]
  },
  {
   "cell_type": "code",
   "execution_count": null,
   "metadata": {},
   "outputs": [],
   "source": [
    "# Últimas filas\n",
    "print(\"Últimas 5 filas del dataset:\\n\")\n",
    "df.tail()"
   ]
  },
  {
   "cell_type": "code",
   "execution_count": null,
   "metadata": {},
   "outputs": [],
   "source": [
    "# Información general del dataset\n",
    "print(\"Información general del dataset:\\n\")\n",
    "df.info()"
   ]
  },
  {
   "cell_type": "markdown",
   "metadata": {},
   "source": [
    "## 3. Análisis de Datos Faltantes\n",
    "\n",
    "### ¿Qué es?\n",
    "Los datos faltantes son valores nulos o vacíos en el dataset. Identificarlos ayuda a decidir cómo tratarlos."
   ]
  },
  {
   "cell_type": "code",
   "execution_count": null,
   "metadata": {},
   "outputs": [],
   "source": [
    "# Contar valores nulos por columna\n",
    "print(\"Valores nulos por columna:\\n\")\n",
    "valores_nulos = df.isnull().sum()\n",
    "valores_nulos_pct = 100 * df.isnull().sum() / len(df)\n",
    "valores_faltantes = pd.DataFrame({\n",
    "    'Total': valores_nulos,\n",
    "    'Porcentaje': valores_nulos_pct\n",
    "})\n",
    "print(valores_faltantes[valores_faltantes['Total'] > 0].sort_values('Total', ascending=False))"
   ]
  },
  {
   "cell_type": "code",
   "execution_count": null,
   "metadata": {},
   "outputs": [],
   "source": [
    "# Visualización de valores nulos\n",
    "plt.figure(figsize=(12, 6))\n",
    "sns.heatmap(df.isnull(), cbar=True, cmap='viridis', yticklabels=False)\n",
    "plt.title('Mapa de Calor de Valores Faltantes', fontsize=16)\n",
    "plt.xlabel('Columnas', fontsize=12)\n",
    "plt.ylabel('Filas', fontsize=12)\n",
    "plt.tight_layout()\n",
    "plt.show()"
   ]
  },
  {
   "cell_type": "code",
   "execution_count": null,
   "metadata": {},
   "outputs": [],
   "source": [
    "# Gráfico de barras de valores faltantes\n",
    "plt.figure(figsize=(10, 6))\n",
    "valores_faltantes[valores_faltantes['Total'] > 0].sort_values('Total', ascending=True)['Porcentaje'].plot(kind='barh')\n",
    "plt.title('Porcentaje de Valores Faltantes por Columna', fontsize=16)\n",
    "plt.xlabel('Porcentaje (%)', fontsize=12)\n",
    "plt.tight_layout()\n",
    "plt.show()"
   ]
  },
  {
   "cell_type": "markdown",
   "metadata": {},
   "source": [
    "## Limpieza y Transformación de Datos"
   ]
  },
  {
   "cell_type": "code",
   "execution_count": null,
   "metadata": {},
   "outputs": [],
   "source": [
    "# Crear una copia del dataset para limpieza\n",
    "df_clean = df.copy()\n",
    "\n",
    "# Tratamiento de valores faltantes\n",
    "# Para 'director': reemplazar con 'No Director'\n",
    "df_clean['director'].fillna('No Director', inplace=True)\n",
    "\n",
    "# Para 'cast': reemplazar con 'No Cast'\n",
    "df_clean['cast'].fillna('No Cast', inplace=True)\n",
    "\n",
    "# Para 'country': reemplazar con 'Unknown'\n",
    "df_clean['country'].fillna('Unknown', inplace=True)\n",
    "\n",
    "# Para 'date_added': mantener como NaN por ahora\n",
    "# Para 'rating': reemplazar con 'Not Rated'\n",
    "df_clean['rating'].fillna('Not Rated', inplace=True)\n",
    "\n",
    "# Verificar que se han tratado los valores faltantes\n",
    "print(\"Valores faltantes después de la limpieza:\\n\")\n",
    "print(df_clean.isnull().sum())"
   ]
  },
  {
   "cell_type": "code",
   "execution_count": null,
   "metadata": {},
   "outputs": [],
   "source": [
    "# Transformación de datos\n",
    "# Convertir date_added a datetime\n",
    "df_clean['date_added'] = pd.to_datetime(df_clean['date_added'], errors='coerce')\n",
    "\n",
    "# Extraer año, mes y día de date_added\n",
    "df_clean['year_added'] = df_clean['date_added'].dt.year\n",
    "df_clean['month_added'] = df_clean['date_added'].dt.month\n",
    "df_clean['day_added'] = df_clean['date_added'].dt.day\n",
    "\n",
    "# Crear variable numérica para duración\n",
    "df_clean['duration_numeric'] = df_clean['duration'].str.extract('(\\d+)').astype(float)\n",
    "df_clean['duration_type'] = df_clean['duration'].str.extract('(\\w+$)')\n",
    "\n",
    "# Separar el primer país listado\n",
    "df_clean['main_country'] = df_clean['country'].str.split(',').str[0]\n",
    "\n",
    "# Separar el primer género listado\n",
    "df_clean['main_genre'] = df_clean['listed_in'].str.split(',').str[0]\n",
    "\n",
    "print(\"Transformaciones completadas exitosamente\")"
   ]
  },
  {
   "cell_type": "markdown",
   "metadata": {},
   "source": [
    "## 4. Distribución de Variables\n",
    "\n",
    "### ¿Qué es?\n",
    "Analizar cómo están distribuidos los valores en las variables numéricas y categóricas."
   ]
  },
  {
   "cell_type": "markdown",
   "metadata": {},
   "source": [
    "### Variables Numéricas"
   ]
  },
  {
   "cell_type": "code",
   "execution_count": null,
   "metadata": {},
   "outputs": [],
   "source": [
    "# Estadísticas descriptivas\n",
    "print(\"Estadísticas descriptivas de variables numéricas:\\n\")\n",
    "print(df_clean[['release_year', 'duration_numeric', 'year_added']].describe())"
   ]
  },
  {
   "cell_type": "code",
   "execution_count": null,
   "metadata": {},
   "outputs": [],
   "source": [
    "# Histograma de año de lanzamiento\n",
    "plt.figure(figsize=(12, 6))\n",
    "plt.subplot(1, 2, 1)\n",
    "df_clean['release_year'].hist(bins=30, edgecolor='black')\n",
    "plt.title('Distribución de Año de Lanzamiento', fontsize=14)\n",
    "plt.xlabel('Año', fontsize=12)\n",
    "plt.ylabel('Frecuencia', fontsize=12)\n",
    "\n",
    "# Histograma de duración (películas)\n",
    "plt.subplot(1, 2, 2)\n",
    "df_clean[df_clean['type'] == 'Movie']['duration_numeric'].hist(bins=30, edgecolor='black')\n",
    "plt.title('Distribución de Duración (Películas)', fontsize=14)\n",
    "plt.xlabel('Duración (minutos)', fontsize=12)\n",
    "plt.ylabel('Frecuencia', fontsize=12)\n",
    "\n",
    "plt.tight_layout()\n",
    "plt.show()"
   ]
  },
  {
   "cell_type": "markdown",
   "metadata": {},
   "source": [
    "### Variables Categóricas"
   ]
  },
  {
   "cell_type": "code",
   "execution_count": null,
   "metadata": {},
   "outputs": [],
   "source": [
    "# Frecuencias de tipo de contenido\n",
    "print(\"Distribución de Tipo de Contenido:\\n\")\n",
    "tipo_contenido = df_clean['type'].value_counts()\n",
    "print(tipo_contenido)\n",
    "print(f\"\\nPorcentajes:\\n{df_clean['type'].value_counts(normalize=True) * 100}\")"
   ]
  },
  {
   "cell_type": "code",
   "execution_count": null,
   "metadata": {},
   "outputs": [],
   "source": [
    "# Visualizaciones de variables categóricas\n",
    "fig, axes = plt.subplots(2, 2, figsize=(15, 12))\n",
    "\n",
    "# Gráfico de barras - Tipo de contenido\n",
    "df_clean['type'].value_counts().plot(kind='bar', ax=axes[0, 0], color=['#E50914', '#564d4d'])\n",
    "axes[0, 0].set_title('Distribución de Tipo de Contenido', fontsize=14)\n",
    "axes[0, 0].set_xlabel('Tipo', fontsize=12)\n",
    "axes[0, 0].set_ylabel('Cantidad', fontsize=12)\n",
    "axes[0, 0].tick_params(axis='x', rotation=0)\n",
    "\n",
    "# Gráfico de pastel - Tipo de contenido\n",
    "df_clean['type'].value_counts().plot(kind='pie', ax=axes[0, 1], autopct='%1.1f%%', colors=['#E50914', '#564d4d'])\n",
    "axes[0, 1].set_title('Proporción de Tipo de Contenido', fontsize=14)\n",
    "axes[0, 1].set_ylabel('')\n",
    "\n",
    "# Top 10 países productores\n",
    "df_clean['main_country'].value_counts().head(10).plot(kind='bar', ax=axes[1, 0])\n",
    "axes[1, 0].set_title('Top 10 Países Productores', fontsize=14)\n",
    "axes[1, 0].set_xlabel('País', fontsize=12)\n",
    "axes[1, 0].set_ylabel('Cantidad', fontsize=12)\n",
    "axes[1, 0].tick_params(axis='x', rotation=45)\n",
    "\n",
    "# Top 10 géneros\n",
    "df_clean['main_genre'].value_counts().head(10).plot(kind='bar', ax=axes[1, 1])\n",
    "axes[1, 1].set_title('Top 10 Géneros Principales', fontsize=14)\n",
    "axes[1, 1].set_xlabel('Género', fontsize=12)\n",
    "axes[1, 1].set_ylabel('Cantidad', fontsize=12)\n",
    "axes[1, 1].tick_params(axis='x', rotation=45)\n",
    "\n",
    "plt.tight_layout()\n",
    "plt.show()"
   ]
  },
  {
   "cell_type": "code",
   "execution_count": null,
   "metadata": {},
   "outputs": [],
   "source": [
    "# Distribución de ratings\n",
    "plt.figure(figsize=(12, 6))\n",
    "rating_counts = df_clean['rating'].value_counts()\n",
    "plt.bar(range(len(rating_counts)), rating_counts.values)\n",
    "plt.xticks(range(len(rating_counts)), rating_counts.index, rotation=45)\n",
    "plt.title('Distribución de Ratings', fontsize=16)\n",
    "plt.xlabel('Rating', fontsize=12)\n",
    "plt.ylabel('Cantidad', fontsize=12)\n",
    "plt.tight_layout()\n",
    "plt.show()"
   ]
  },
  {
   "cell_type": "markdown",
   "metadata": {},
   "source": [
    "## 5. Análisis de Relaciones Entre Variables\n",
    "\n",
    "### ¿Qué es?\n",
    "Investigar cómo interactúan las variables entre sí, por ejemplo, si existe correlación entre dos variables numéricas."
   ]
  },
  {
   "cell_type": "code",
   "execution_count": null,
   "metadata": {},
   "outputs": [],
   "source": [
    "# Matriz de correlación para variables numéricas\n",
    "numeric_cols = ['release_year', 'duration_numeric', 'year_added']\n",
    "correlation_matrix = df_clean[numeric_cols].corr()\n",
    "\n",
    "print(\"Matriz de correlación:\\n\")\n",
    "print(correlation_matrix)"
   ]
  },
  {
   "cell_type": "code",
   "execution_count": null,
   "metadata": {},
   "outputs": [],
   "source": [
    "# Mapa de calor de correlaciones\n",
    "plt.figure(figsize=(8, 6))\n",
    "sns.heatmap(correlation_matrix, annot=True, cmap='coolwarm', center=0, square=True)\n",
    "plt.title('Mapa de Calor de Correlaciones', fontsize=16)\n",
    "plt.tight_layout()\n",
    "plt.show()"
   ]
  },
  {
   "cell_type": "code",
   "execution_count": null,
   "metadata": {},
   "outputs": [],
   "source": [
    "# Scatterplot - Año de lanzamiento vs Año añadido\n",
    "plt.figure(figsize=(10, 6))\n",
    "plt.scatter(df_clean['release_year'], df_clean['year_added'], alpha=0.5)\n",
    "plt.xlabel('Año de Lanzamiento', fontsize=12)\n",
    "plt.ylabel('Año Añadido a Netflix', fontsize=12)\n",
    "plt.title('Relación entre Año de Lanzamiento y Año Añadido', fontsize=14)\n",
    "plt.tight_layout()\n",
    "plt.show()"
   ]
  },
  {
   "cell_type": "code",
   "execution_count": null,
   "metadata": {},
   "outputs": [],
   "source": [
    "# Análisis de duración por tipo de contenido\n",
    "plt.figure(figsize=(12, 6))\n",
    "\n",
    "# Películas vs Series\n",
    "plt.subplot(1, 2, 1)\n",
    "df_movies = df_clean[df_clean['type'] == 'Movie']['duration_numeric']\n",
    "df_tv = df_clean[df_clean['type'] == 'TV Show']['duration_numeric']\n",
    "\n",
    "plt.hist([df_movies, df_tv], label=['Movies', 'TV Shows'], bins=20, alpha=0.7)\n",
    "plt.xlabel('Duración', fontsize=12)\n",
    "plt.ylabel('Frecuencia', fontsize=12)\n",
    "plt.title('Distribución de Duración por Tipo', fontsize=14)\n",
    "plt.legend()\n",
    "\n",
    "# Boxplot comparativo\n",
    "plt.subplot(1, 2, 2)\n",
    "df_clean.boxplot(column='release_year', by='type', ax=plt.gca())\n",
    "plt.title('Año de Lanzamiento por Tipo de Contenido', fontsize=14)\n",
    "plt.suptitle('')\n",
    "\n",
    "plt.tight_layout()\n",
    "plt.show()"
   ]
  },
  {
   "cell_type": "markdown",
   "metadata": {},
   "source": [
    "## 6. Detección de Outliers\n",
    "\n",
    "### ¿Qué es?\n",
    "Identificar valores atípicos o extremos que pueden influir en el análisis."
   ]
  },
  {
   "cell_type": "code",
   "execution_count": null,
   "metadata": {},
   "outputs": [],
   "source": [
    "# Boxplot para duración de películas\n",
    "plt.figure(figsize=(12, 6))\n",
    "\n",
    "plt.subplot(1, 2, 1)\n",
    "df_movies_duration = df_clean[df_clean['type'] == 'Movie']['duration_numeric']\n",
    "plt.boxplot(df_movies_duration.dropna())\n",
    "plt.title('Boxplot: Duración de Películas', fontsize=14)\n",
    "plt.ylabel('Duración (minutos)', fontsize=12)\n",
    "\n",
    "plt.subplot(1, 2, 2)\n",
    "plt.boxplot(df_clean['release_year'].dropna())\n",
    "plt.title('Boxplot: Año de Lanzamiento', fontsize=14)\n",
    "plt.ylabel('Año', fontsize=12)\n",
    "\n",
    "plt.tight_layout()\n",
    "plt.show()"
   ]
  },
  {
   "cell_type": "code",
   "execution_count": null,
   "metadata": {},
   "outputs": [],
   "source": [
    "# Método IQR para detectar outliers\n",
    "def detect_outliers_iqr(data, column):\n",
    "    Q1 = data[column].quantile(0.25)\n",
    "    Q3 = data[column].quantile(0.75)\n",
    "    IQR = Q3 - Q1\n",
    "    lower_bound = Q1 - 1.5 * IQR\n",
    "    upper_bound = Q3 + 1.5 * IQR\n",
    "    \n",
    "    outliers = data[(data[column] < lower_bound) | (data[column] > upper_bound)]\n",
    "    \n",
    "    print(f\"Análisis de outliers para {column}:\")\n",
    "    print(f\"Q1: {Q1}, Q3: {Q3}, IQR: {IQR}\")\n",
    "    print(f\"Límite inferior: {lower_bound}, Límite superior: {upper_bound}\")\n",
    "    print(f\"Número de outliers: {len(outliers)}\")\n",
    "    print(f\"Porcentaje de outliers: {len(outliers)/len(data)*100:.2f}%\\n\")\n",
    "    \n",
    "    return outliers\n",
    "\n",
    "# Detectar outliers en duración de películas\n",
    "movies_data = df_clean[df_clean['type'] == 'Movie'].dropna(subset=['duration_numeric'])\n",
    "outliers_duration = detect_outliers_iqr(movies_data, 'duration_numeric')\n",
    "\n",
    "# Detectar outliers en año de lanzamiento\n",
    "outliers_year = detect_outliers_iqr(df_clean, 'release_year')\n",
    "\n",
    "# Mostrar algunos ejemplos de outliers\n",
    "print(\"Ejemplos de películas con duración atípica:\")\n",
    "print(outliers_duration[['title', 'duration', 'release_year']].head())"
   ]
  },
  {
   "cell_type": "markdown",
   "metadata": {},
   "source": [
    "## 7. Análisis Temporal\n",
    "\n",
    "### ¿Qué es?\n",
    "Explorar patrones y tendencias en los datos que varían con el tiempo."
   ]
  },
  {
   "cell_type": "code",
   "execution_count": null,
   "metadata": {},
   "outputs": [],
   "source": [
    "# Tendencias temporales\n",
    "# Contenido añadido por año\n",
    "yearly_additions = df_clean.groupby('year_added').size()\n",
    "\n",
    "plt.figure(figsize=(14, 6))\n",
    "\n",
    "plt.subplot(1, 2, 1)\n",
    "yearly_additions.plot(kind='line', marker='o')\n",
    "plt.title('Tendencia de Contenido Añadido por Año', fontsize=14)\n",
    "plt.xlabel('Año', fontsize=12)\n",
    "plt.ylabel('Cantidad de Títulos', fontsize=12)\n",
    "plt.grid(True, alpha=0.3)\n",
    "\n",
    "# Contenido por mes\n",
    "plt.subplot(1, 2, 2)\n",
    "monthly_additions = df_clean.groupby('month_added').size()\n",
    "months = ['Ene', 'Feb', 'Mar', 'Abr', 'May', 'Jun', 'Jul', 'Ago', 'Sep', 'Oct', 'Nov', 'Dic']\n",
    "plt.bar(range(1, 13), monthly_additions.sort_index().values)\n",
    "plt.xticks(range(1, 13), months)\n",
    "plt.title('Distribución de Contenido Añadido por Mes', fontsize=14)\n",
    "plt.xlabel('Mes', fontsize=12)\n",
    "plt.ylabel('Cantidad de Títulos', fontsize=12)\n",
    "\n",
    "plt.tight_layout()\n",
    "plt.show()"
   ]
  },
  {
   "cell_type": "code",
   "execution_count": null,
   "metadata": {},
   "outputs": [],
   "source": [
    "# Evolución del tipo de contenido a lo largo del tiempo\n",
    "content_by_year_type = df_clean.groupby(['year_added', 'type']).size().unstack(fill_value=0)\n",
    "\n",
    "plt.figure(figsize=(12, 6))\n",
    "content_by_year_type.plot(kind='bar', stacked=True, color=['#E50914', '#564d4d'])\n",
    "plt.title('Evolución del Tipo de Contenido Añadido por Año', fontsize=16)\n",
    "plt.xlabel('Año', fontsize=12)\n",
    "plt.ylabel('Cantidad de Títulos', fontsize=12)\n",
    "plt.legend(title='Tipo')\n",
    "plt.xticks(rotation=45)\n",
    "plt.tight_layout()\n",
    "plt.show()"
   ]
  },
  {
   "cell_type": "code",
   "execution_count": null,
   "metadata": {},
   "outputs": [],
   "source": [
    "# Análisis de producción por década\n",
    "df_clean['decade'] = (df_clean['release_year'] // 10) * 10\n",
    "decade_analysis = df_clean.groupby(['decade', 'type']).size().unstack(fill_value=0)\n",
    "\n",
    "plt.figure(figsize=(10, 6))\n",
    "decade_analysis.plot(kind='bar', color=['#E50914', '#564d4d'])\n",
    "plt.title('Producción de Contenido por Década', fontsize=16)\n",
    "plt.xlabel('Década', fontsize=12)\n",
    "plt.ylabel('Cantidad de Títulos', fontsize=12)\n",
    "plt.legend(title='Tipo')\n",
    "plt.xticks(rotation=45)\n",
    "plt.tight_layout()\n",
    "plt.show()"
   ]
  },
  {
   "cell_type": "markdown",
   "metadata": {},
   "source": [
    "## Generación del Reporte con ydata-profiling"
   ]
  },
  {
   "cell_type": "code",
   "execution_count": null,
   "metadata": {},
   "outputs": [],
   "source": [
    "# Generar reporte completo con ydata-profiling\n",
    "print(\"Generando reporte completo con ydata-profiling...\")\n",
    "print(\"Este proceso puede tomar algunos minutos...\")\n",
    "\n",
    "profile = ProfileReport(df_clean, \n",
    "                       title=\"Netflix Movies and TV Shows - Análisis Exploratorio Completo\",\n",
    "                       dataset={\n",
    "                           \"description\": \"Dataset de películas y series de TV disponibles en Netflix\",\n",
    "                           \"copyright_holder\": \"Netflix\",\n",
    "                           \"url\": \"https://www.kaggle.com/datasets/shivamb/netflix-shows\"\n",
    "                       },\n",
    "                       variables={\n",
    "                           \"descriptions\": {\n",
    "                               \"show_id\": \"Identificador único del título\",\n",
    "                               \"type\": \"Tipo de contenido (Movie/TV Show)\",\n",
    "                               \"title\": \"Nombre del título\",\n",
    "                               \"director\": \"Director del contenido\",\n",
    "                               \"cast\": \"Actores principales\",\n",
    "                               \"country\": \"País de producción\",\n",
    "                               \"date_added\": \"Fecha de adición a Netflix\",\n",
    "                               \"release_year\": \"Año de lanzamiento\",\n",
    "                               \"rating\": \"Clasificación del contenido\",\n",
    "                               \"duration\": \"Duración del contenido\",\n",
    "                               \"listed_in\": \"Géneros/Categorías\",\n",
    "                               \"description\": \"Sinopsis del contenido\"\n",
    "                           }\n",
    "                       },\n",
    "                       explorative=True)\n",
    "\n",
    "# Guardar reporte\n",
    "# Para Kaggle usar: profile.to_file('/kaggle/working/netflix_eda_report_completo.html')\n",
    "profile.to_file('netflix_eda_report_completo.html')\n",
    "print(\"\\nReporte guardado exitosamente como 'netflix_eda_report_completo.html'\")"
   ]
  },
  {
   "cell_type": "code",
   "execution_count": null,
   "metadata": {},
   "outputs": [],
   "source": [
    "# Mostrar reporte en el notebook (opcional, puede ser pesado)\n",
    "# profile.to_notebook_iframe()"
   ]
  },
  {
   "cell_type": "markdown",
   "metadata": {},
   "source": [
    "## 8. Insights Clave\n",
    "\n",
    "### ¿Qué es?\n",
    "Resumir los patrones importantes observados en el análisis.\n",
    "\n",
    "### Hallazgos principales:\n",
    "\n",
    "1. **Composición del catálogo**: El catálogo de Netflix está compuesto por aproximadamente 70% películas y 30% series de TV, mostrando una clara preferencia por el contenido cinematográfico.\n",
    "\n",
    "2. **Tendencia temporal**: Se observa un crecimiento exponencial en la adición de contenido desde 2015, con un pico significativo en 2019-2020.\n",
    "\n",
    "3. **Valores faltantes**: Las columnas con mayor cantidad de valores faltantes son 'director' (30%), 'cast' (9.2%), y 'country' (6.5%), lo cual podría afectar análisis específicos sobre estos aspectos.\n",
    "\n",
    "4. **Producción por país**: Estados Unidos lidera la producción de contenido, seguido por India y Reino Unido, reflejando la estrategia global de Netflix.\n",
    "\n",
    "5. **Géneros populares**: Los géneros más comunes son International Movies, Dramas, y Comedies, indicando las preferencias del público global.\n",
    "\n",
    "6. **Duración del contenido**: Las películas tienen una duración promedio de 99 minutos, mientras que las series suelen tener entre 1-3 temporadas.\n",
    "\n",
    "7. **Outliers detectados**: Se identificaron películas con duraciones extremas (>200 minutos) y contenido muy antiguo (anterior a 1950) que podría ser contenido clásico o de archivo.\n",
    "\n",
    "8. **Patrón estacional**: Se observa mayor adición de contenido en los últimos meses del año, posiblemente relacionado con estrategias de marketing navideño."
   ]
  },
  {
   "cell_type": "markdown",
   "metadata": {},
   "source": [
    "## 9. Próximos Pasos\n",
    "\n",
    "### ¿Qué es?\n",
    "Proponer acciones futuras, como limpieza de datos, creación de nuevas variables, o preparación para modelado.\n",
    "\n",
    "### Recomendaciones:\n",
    "\n",
    "1. **Limpieza avanzada de datos**:\n",
    "   - Estandarizar los nombres de países para un análisis geográfico más preciso\n",
    "   - Separar múltiples géneros en columnas individuales para análisis más detallado\n",
    "   - Imputar valores faltantes de 'date_added' usando técnicas de machine learning\n",
    "\n",
    "2. **Creación de nuevas variables**:\n",
    "   - Variable de 'edad del contenido' (años desde el lanzamiento)\n",
    "   - Indicador de contenido exclusivo vs licenciado\n",
    "   - Clasificación de contenido por época (clásico, moderno, contemporáneo)\n",
    "\n",
    "3. **Análisis avanzados**:\n",
    "   - Análisis de sentimientos en las descripciones usando NLP\n",
    "   - Clustering de contenido similar para sistemas de recomendación\n",
    "   - Análisis de redes de actores y directores\n",
    "\n",
    "4. **Modelado predictivo**:\n",
    "   - Predecir el éxito de contenido basado en características\n",
    "   - Clasificar automáticamente géneros basándose en descripciones\n",
    "   - Forecasting de tendencias futuras en tipos de contenido\n",
    "\n",
    "5. **Visualizaciones interactivas**:\n",
    "   - Dashboard interactivo con Plotly o Tableau\n",
    "   - Mapa geográfico de producción de contenido\n",
    "   - Timeline interactivo de evolución del catálogo"
   ]
  },
  {
   "cell_type": "markdown",
   "metadata": {},
   "source": [
    "## 10. Anexos\n",
    "\n",
    "### ¿Qué es?\n",
    "Agregar visualizaciones o código adicional que soporte el análisis."
   ]
  },
  {
   "cell_type": "code",
   "execution_count": null,
   "metadata": {},
   "outputs": [],
   "source": [
    "# Guardar dataset limpio\n",
    "# Para Kaggle usar: df_clean.to_csv('/kaggle/working/netflix_clean.csv', index=False)\n",
    "df_clean.to_csv('netflix_clean.csv', index=False)\n",
    "print(\"Dataset limpio guardado como 'netflix_clean.csv'\")"
   ]
  },
  {
   "cell_type": "code",
   "execution_count": null,
   "metadata": {},
   "outputs": [],
   "source": [
    "# Resumen final del proyecto\n",
    "print(\"=== RESUMEN DEL PROYECTO ===\")\n",
    "print(f\"\\nDataset original: {df.shape[0]} filas, {df.shape[1]} columnas\")\n",
    "print(f\"Dataset limpio: {df_clean.shape[0]} filas, {df_clean.shape[1]} columnas\")\n",
    "print(f\"\\nNuevas variables creadas: {df_clean.shape[1] - df.shape[1]}\")\n",
    "print(f\"Valores faltantes tratados: {df.isnull().sum().sum() - df_clean.isnull().sum().sum()}\")\n",
    "print(f\"\\nArchivos generados:\")\n",
    "print(\"- netflix_eda_report_completo.html (Reporte completo con ydata-profiling)\")\n",
    "print(\"- netflix_clean.csv (Dataset limpio y transformado)\")\n",
    "print(\"- Notebook Jupyter con todo el análisis\")\n",
    "print(\"\\n¡Análisis completado exitosamente!\")"
   ]
  },
  {
   "cell_type": "markdown",
   "metadata": {},
   "source": [
    "## Conclusiones\n",
    "\n",
    "Este análisis exploratorio del dataset de Netflix ha revelado insights valiosos sobre la composición y evolución del catálogo de la plataforma. Los hallazgos principales muestran una clara estrategia de crecimiento con énfasis en películas internacionales y una expansión acelerada desde 2015.\n",
    "\n",
    "El dataset, aunque robusto con más de 8,000 registros, presenta algunos desafíos en términos de valores faltantes que fueron abordados adecuadamente. La calidad general de los datos es buena y permite realizar análisis significativos.\n",
    "\n",
    "Los patrones identificados pueden ser útiles para:\n",
    "- Estrategias de contenido\n",
    "- Sistemas de recomendación\n",
    "- Análisis de mercado\n",
    "- Predicción de tendencias\n",
    "\n",
    "Este proyecto demuestra la importancia del EDA como primer paso fundamental en cualquier proyecto de ciencia de datos."
   ]
  }
 ],
 "metadata": {
  "kernelspec": {
   "display_name": "Python 3",
   "language": "python",
   "name": "python3"
  },
  "language_info": {
   "codemirror_mode": {
    "name": "ipython",
    "version": 3
   },
   "file_extension": ".py",
   "mimetype": "text/x-python",
   "name": "python",
   "nbconvert_exporter": "python",
   "pygments_lexer": "ipython3",
   "version": "3.8.0"
  }
 },
 "nbformat": 4,
 "nbformat_minor": 4
}
